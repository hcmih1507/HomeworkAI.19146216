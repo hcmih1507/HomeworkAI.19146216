{
  "nbformat": 4,
  "nbformat_minor": 0,
  "metadata": {
    "colab": {
      "provenance": [],
      "authorship_tag": "ABX9TyPL1LRh7BvgN5mVttVSTPjW",
      "include_colab_link": true
    },
    "kernelspec": {
      "name": "python3",
      "display_name": "Python 3"
    },
    "language_info": {
      "name": "python"
    },
    "accelerator": "GPU",
    "gpuClass": "standard"
  },
  "cells": [
    {
      "cell_type": "markdown",
      "metadata": {
        "id": "view-in-github",
        "colab_type": "text"
      },
      "source": [
        "<a href=\"https://colab.research.google.com/github/hcmih1507/HomeworkAI.19146216/blob/main/w11_CNN%26ANN.ipynb\" target=\"_parent\"><img src=\"https://colab.research.google.com/assets/colab-badge.svg\" alt=\"Open In Colab\"/></a>"
      ]
    },
    {
      "cell_type": "markdown",
      "source": [
        "### CNN"
      ],
      "metadata": {
        "id": "PnKd7MkkpW9i"
      }
    },
    {
      "cell_type": "code",
      "execution_count": 1,
      "metadata": {
        "id": "dOagdsGacqOX"
      },
      "outputs": [],
      "source": [
        "from keras.models import Sequential \n",
        "from keras.layers import Dense, Dropout, Flatten, Conv2D, MaxPooling2D, Normalization, LeakyReLU\n",
        "from keras.optimizers import Adam"
      ]
    },
    {
      "cell_type": "code",
      "source": [
        "model = Sequential()\n",
        "#1 \n",
        "model.add(Conv2D(filters=32,kernel_size=(3,3),activation='relu',input_shape=(32,32,3),padding='same'))\n",
        "model.add(LeakyReLU(alpha=0.1))\n",
        "model.add(MaxPooling2D(pool_size=(2,2),padding='same'))\n",
        "model.add(Dropout(0.25))\n",
        "#2 \n",
        "model.add(Conv2D(filters=64,kernel_size=(3,3),activation='relu',input_shape=(32,32,3),padding='same'))\n",
        "model.add(LeakyReLU(alpha=0.1))\n",
        "model.add(MaxPooling2D(pool_size=(2,2),padding='same'))\n",
        "model.add(Dropout(0.25))\n",
        "#3 \n",
        "model.add(Conv2D(filters=128,kernel_size=(3,3),activation='relu',input_shape=(32,32,3),padding='same'))\n",
        "model.add(LeakyReLU(alpha=0.1))\n",
        "model.add(MaxPooling2D(pool_size=(2,2),padding='same'))\n",
        "model.add(Dropout(0.25))\n",
        "\n",
        "model.add(Conv2D(filters=256,kernel_size=(3,3),activation='relu',input_shape=(32,32,3),padding='same'))\n",
        "model.add(LeakyReLU(alpha=0.1))\n",
        "model.add(MaxPooling2D(pool_size=(2,2),padding='same'))\n",
        "model.add(Dropout(0.25))"
      ],
      "metadata": {
        "id": "-RDsv7DkdNxv"
      },
      "execution_count": 2,
      "outputs": []
    },
    {
      "cell_type": "markdown",
      "source": [
        "CIFAR10"
      ],
      "metadata": {
        "id": "6X-QHUOvdivW"
      }
    },
    {
      "cell_type": "code",
      "source": [
        "from matplotlib import pyplot\n",
        "from keras.datasets import cifar10\n",
        "# load dataset\n",
        "cifar10_data = cifar10.load_data()\n",
        "(X_train, y_train), (X_test, y_test) = cifar10_data"
      ],
      "metadata": {
        "colab": {
          "base_uri": "https://localhost:8080/"
        },
        "id": "rgGO5V7cdenV",
        "outputId": "edb615f2-890f-4f77-e685-3634e50233d6"
      },
      "execution_count": 3,
      "outputs": [
        {
          "output_type": "stream",
          "name": "stdout",
          "text": [
            "Downloading data from https://www.cs.toronto.edu/~kriz/cifar-10-python.tar.gz\n",
            "170498071/170498071 [==============================] - 13s 0us/step\n"
          ]
        }
      ]
    },
    {
      "cell_type": "code",
      "source": [
        "print(\"x train : \", X_train.shape)\n",
        "print(\"x test : \", X_test.shape)\n",
        "print(\"y train : \", y_train.shape)\n",
        "print(\"y test : \", y_test.shape)"
      ],
      "metadata": {
        "colab": {
          "base_uri": "https://localhost:8080/"
        },
        "id": "nn7tA63hdhos",
        "outputId": "3ddff5c0-32a7-490f-ced5-5d397e2f8a20"
      },
      "execution_count": 4,
      "outputs": [
        {
          "output_type": "stream",
          "name": "stdout",
          "text": [
            "x train :  (50000, 32, 32, 3)\n",
            "x test :  (10000, 32, 32, 3)\n",
            "y train :  (50000, 1)\n",
            "y test :  (10000, 1)\n"
          ]
        }
      ]
    },
    {
      "cell_type": "code",
      "source": [
        "from keras.utils import to_categorical \n",
        "\n",
        "y_train = to_categorical(y_train,10)\n",
        "y_test = to_categorical(y_test,10)\n",
        "y_train.shape\n",
        "y_test.shape"
      ],
      "metadata": {
        "colab": {
          "base_uri": "https://localhost:8080/"
        },
        "id": "TqY_8BbidolK",
        "outputId": "02c797eb-263a-4ec3-96b0-36afe5dc8a9c"
      },
      "execution_count": 5,
      "outputs": [
        {
          "output_type": "execute_result",
          "data": {
            "text/plain": [
              "(10000, 10)"
            ]
          },
          "metadata": {},
          "execution_count": 5
        }
      ]
    },
    {
      "cell_type": "markdown",
      "source": [
        "### ANN"
      ],
      "metadata": {
        "id": "K7u9mHVOdvPn"
      }
    },
    {
      "cell_type": "code",
      "source": [
        "from keras.backend import categorical_crossentropy\n",
        "model.add(Flatten())\n",
        "model.add(Dense(units=256,activation='relu'))\n",
        "model.add(LeakyReLU(alpha=0.1))\n",
        "model.add(Dense(10,activation='softmax'))\n",
        "\n",
        "from keras.losses import categorical_crossentropy\n",
        "model.compile(optimizer=Adam(),loss='categorical_crossentropy',metrics=['accuracy'])\n",
        "model.summary()"
      ],
      "metadata": {
        "colab": {
          "base_uri": "https://localhost:8080/"
        },
        "id": "vz0KZKMFdo_S",
        "outputId": "249f66eb-7147-4df1-e86f-16a3eaeacee0"
      },
      "execution_count": 6,
      "outputs": [
        {
          "output_type": "stream",
          "name": "stdout",
          "text": [
            "Model: \"sequential\"\n",
            "_________________________________________________________________\n",
            " Layer (type)                Output Shape              Param #   \n",
            "=================================================================\n",
            " conv2d (Conv2D)             (None, 32, 32, 32)        896       \n",
            "                                                                 \n",
            " leaky_re_lu (LeakyReLU)     (None, 32, 32, 32)        0         \n",
            "                                                                 \n",
            " max_pooling2d (MaxPooling2D  (None, 16, 16, 32)       0         \n",
            " )                                                               \n",
            "                                                                 \n",
            " dropout (Dropout)           (None, 16, 16, 32)        0         \n",
            "                                                                 \n",
            " conv2d_1 (Conv2D)           (None, 16, 16, 64)        18496     \n",
            "                                                                 \n",
            " leaky_re_lu_1 (LeakyReLU)   (None, 16, 16, 64)        0         \n",
            "                                                                 \n",
            " max_pooling2d_1 (MaxPooling  (None, 8, 8, 64)         0         \n",
            " 2D)                                                             \n",
            "                                                                 \n",
            " dropout_1 (Dropout)         (None, 8, 8, 64)          0         \n",
            "                                                                 \n",
            " conv2d_2 (Conv2D)           (None, 8, 8, 128)         73856     \n",
            "                                                                 \n",
            " leaky_re_lu_2 (LeakyReLU)   (None, 8, 8, 128)         0         \n",
            "                                                                 \n",
            " max_pooling2d_2 (MaxPooling  (None, 4, 4, 128)        0         \n",
            " 2D)                                                             \n",
            "                                                                 \n",
            " dropout_2 (Dropout)         (None, 4, 4, 128)         0         \n",
            "                                                                 \n",
            " conv2d_3 (Conv2D)           (None, 4, 4, 256)         295168    \n",
            "                                                                 \n",
            " leaky_re_lu_3 (LeakyReLU)   (None, 4, 4, 256)         0         \n",
            "                                                                 \n",
            " max_pooling2d_3 (MaxPooling  (None, 2, 2, 256)        0         \n",
            " 2D)                                                             \n",
            "                                                                 \n",
            " dropout_3 (Dropout)         (None, 2, 2, 256)         0         \n",
            "                                                                 \n",
            " flatten (Flatten)           (None, 1024)              0         \n",
            "                                                                 \n",
            " dense (Dense)               (None, 256)               262400    \n",
            "                                                                 \n",
            " leaky_re_lu_4 (LeakyReLU)   (None, 256)               0         \n",
            "                                                                 \n",
            " dense_1 (Dense)             (None, 10)                2570      \n",
            "                                                                 \n",
            "=================================================================\n",
            "Total params: 653,386\n",
            "Trainable params: 653,386\n",
            "Non-trainable params: 0\n",
            "_________________________________________________________________\n"
          ]
        }
      ]
    },
    {
      "cell_type": "code",
      "source": [
        "train = model.fit(X_train,y_train,batch_size=256,epochs=100,verbose=1)"
      ],
      "metadata": {
        "colab": {
          "base_uri": "https://localhost:8080/"
        },
        "id": "vDnOOEyHd1wh",
        "outputId": "da82b59b-e4b2-45ae-f9e8-0e4ac0f78ebf"
      },
      "execution_count": 7,
      "outputs": [
        {
          "output_type": "stream",
          "name": "stdout",
          "text": [
            "Epoch 1/100\n",
            "196/196 [==============================] - 12s 16ms/step - loss: 2.9699 - accuracy: 0.2313\n",
            "Epoch 2/100\n",
            "196/196 [==============================] - 3s 15ms/step - loss: 1.6173 - accuracy: 0.4051\n",
            "Epoch 3/100\n",
            "196/196 [==============================] - 3s 14ms/step - loss: 1.4602 - accuracy: 0.4680\n",
            "Epoch 4/100\n",
            "196/196 [==============================] - 3s 15ms/step - loss: 1.3583 - accuracy: 0.5079\n",
            "Epoch 5/100\n",
            "196/196 [==============================] - 3s 15ms/step - loss: 1.2898 - accuracy: 0.5353\n",
            "Epoch 6/100\n",
            "196/196 [==============================] - 3s 15ms/step - loss: 1.2112 - accuracy: 0.5648\n",
            "Epoch 7/100\n",
            "196/196 [==============================] - 3s 14ms/step - loss: 1.1720 - accuracy: 0.5804\n",
            "Epoch 8/100\n",
            "196/196 [==============================] - 3s 14ms/step - loss: 1.1118 - accuracy: 0.6046\n",
            "Epoch 9/100\n",
            "196/196 [==============================] - 3s 14ms/step - loss: 1.0651 - accuracy: 0.6215\n",
            "Epoch 10/100\n",
            "196/196 [==============================] - 3s 15ms/step - loss: 1.0325 - accuracy: 0.6329\n",
            "Epoch 11/100\n",
            "196/196 [==============================] - 3s 14ms/step - loss: 0.9940 - accuracy: 0.6472\n",
            "Epoch 12/100\n",
            "196/196 [==============================] - 3s 14ms/step - loss: 0.9649 - accuracy: 0.6576\n",
            "Epoch 13/100\n",
            "196/196 [==============================] - 3s 14ms/step - loss: 0.9385 - accuracy: 0.6668\n",
            "Epoch 14/100\n",
            "196/196 [==============================] - 3s 15ms/step - loss: 0.9105 - accuracy: 0.6769\n",
            "Epoch 15/100\n",
            "196/196 [==============================] - 3s 14ms/step - loss: 0.8954 - accuracy: 0.6832\n",
            "Epoch 16/100\n",
            "196/196 [==============================] - 3s 15ms/step - loss: 0.8685 - accuracy: 0.6933\n",
            "Epoch 17/100\n",
            "196/196 [==============================] - 3s 14ms/step - loss: 0.8491 - accuracy: 0.7038\n",
            "Epoch 18/100\n",
            "196/196 [==============================] - 3s 15ms/step - loss: 0.8290 - accuracy: 0.7060\n",
            "Epoch 19/100\n",
            "196/196 [==============================] - 3s 15ms/step - loss: 0.8113 - accuracy: 0.7155\n",
            "Epoch 20/100\n",
            "196/196 [==============================] - 3s 15ms/step - loss: 0.7889 - accuracy: 0.7220\n",
            "Epoch 21/100\n",
            "196/196 [==============================] - 3s 14ms/step - loss: 0.7808 - accuracy: 0.7283\n",
            "Epoch 22/100\n",
            "196/196 [==============================] - 3s 15ms/step - loss: 0.7721 - accuracy: 0.7275\n",
            "Epoch 23/100\n",
            "196/196 [==============================] - 3s 15ms/step - loss: 0.7617 - accuracy: 0.7333\n",
            "Epoch 24/100\n",
            "196/196 [==============================] - 3s 15ms/step - loss: 0.7512 - accuracy: 0.7345\n",
            "Epoch 25/100\n",
            "196/196 [==============================] - 3s 15ms/step - loss: 0.7459 - accuracy: 0.7382\n",
            "Epoch 26/100\n",
            "196/196 [==============================] - 3s 15ms/step - loss: 0.7166 - accuracy: 0.7480\n",
            "Epoch 27/100\n",
            "196/196 [==============================] - 3s 15ms/step - loss: 0.6983 - accuracy: 0.7540\n",
            "Epoch 28/100\n",
            "196/196 [==============================] - 3s 14ms/step - loss: 0.6917 - accuracy: 0.7564\n",
            "Epoch 29/100\n",
            "196/196 [==============================] - 3s 15ms/step - loss: 0.6819 - accuracy: 0.7611\n",
            "Epoch 30/100\n",
            "196/196 [==============================] - 3s 15ms/step - loss: 0.6769 - accuracy: 0.7627\n",
            "Epoch 31/100\n",
            "196/196 [==============================] - 3s 15ms/step - loss: 0.6614 - accuracy: 0.7669\n",
            "Epoch 32/100\n",
            "196/196 [==============================] - 3s 14ms/step - loss: 0.6608 - accuracy: 0.7672\n",
            "Epoch 33/100\n",
            "196/196 [==============================] - 3s 14ms/step - loss: 0.6479 - accuracy: 0.7733\n",
            "Epoch 34/100\n",
            "196/196 [==============================] - 3s 14ms/step - loss: 0.6350 - accuracy: 0.7763\n",
            "Epoch 35/100\n",
            "196/196 [==============================] - 3s 15ms/step - loss: 0.6361 - accuracy: 0.7769\n",
            "Epoch 36/100\n",
            "196/196 [==============================] - 3s 14ms/step - loss: 0.6261 - accuracy: 0.7806\n",
            "Epoch 37/100\n",
            "196/196 [==============================] - 3s 14ms/step - loss: 0.6131 - accuracy: 0.7846\n",
            "Epoch 38/100\n",
            "196/196 [==============================] - 3s 14ms/step - loss: 0.6117 - accuracy: 0.7859\n",
            "Epoch 39/100\n",
            "196/196 [==============================] - 3s 15ms/step - loss: 0.6165 - accuracy: 0.7810\n",
            "Epoch 40/100\n",
            "196/196 [==============================] - 3s 15ms/step - loss: 0.5980 - accuracy: 0.7914\n",
            "Epoch 41/100\n",
            "196/196 [==============================] - 3s 15ms/step - loss: 0.5871 - accuracy: 0.7940\n",
            "Epoch 42/100\n",
            "196/196 [==============================] - 3s 14ms/step - loss: 0.5931 - accuracy: 0.7920\n",
            "Epoch 43/100\n",
            "196/196 [==============================] - 3s 15ms/step - loss: 0.5862 - accuracy: 0.7923\n",
            "Epoch 44/100\n",
            "196/196 [==============================] - 3s 15ms/step - loss: 0.5801 - accuracy: 0.7966\n",
            "Epoch 45/100\n",
            "196/196 [==============================] - 3s 15ms/step - loss: 0.5687 - accuracy: 0.7988\n",
            "Epoch 46/100\n",
            "196/196 [==============================] - 3s 14ms/step - loss: 0.5678 - accuracy: 0.8013\n",
            "Epoch 47/100\n",
            "196/196 [==============================] - 3s 15ms/step - loss: 0.5677 - accuracy: 0.8000\n",
            "Epoch 48/100\n",
            "196/196 [==============================] - 3s 15ms/step - loss: 0.5529 - accuracy: 0.8057\n",
            "Epoch 49/100\n",
            "196/196 [==============================] - 3s 15ms/step - loss: 0.5529 - accuracy: 0.8065\n",
            "Epoch 50/100\n",
            "196/196 [==============================] - 3s 14ms/step - loss: 0.5502 - accuracy: 0.8044\n",
            "Epoch 51/100\n",
            "196/196 [==============================] - 3s 15ms/step - loss: 0.5412 - accuracy: 0.8100\n",
            "Epoch 52/100\n",
            "196/196 [==============================] - 3s 15ms/step - loss: 0.5379 - accuracy: 0.8119\n",
            "Epoch 53/100\n",
            "196/196 [==============================] - 3s 14ms/step - loss: 0.5272 - accuracy: 0.8153\n",
            "Epoch 54/100\n",
            "196/196 [==============================] - 3s 15ms/step - loss: 0.5288 - accuracy: 0.8142\n",
            "Epoch 55/100\n",
            "196/196 [==============================] - 3s 14ms/step - loss: 0.5278 - accuracy: 0.8149\n",
            "Epoch 56/100\n",
            "196/196 [==============================] - 3s 15ms/step - loss: 0.5219 - accuracy: 0.8161\n",
            "Epoch 57/100\n",
            "196/196 [==============================] - 3s 15ms/step - loss: 0.5136 - accuracy: 0.8205\n",
            "Epoch 58/100\n",
            "196/196 [==============================] - 3s 15ms/step - loss: 0.5185 - accuracy: 0.8170\n",
            "Epoch 59/100\n",
            "196/196 [==============================] - 3s 14ms/step - loss: 0.5142 - accuracy: 0.8202\n",
            "Epoch 60/100\n",
            "196/196 [==============================] - 3s 15ms/step - loss: 0.5006 - accuracy: 0.8261\n",
            "Epoch 61/100\n",
            "196/196 [==============================] - 3s 15ms/step - loss: 0.4977 - accuracy: 0.8236\n",
            "Epoch 62/100\n",
            "196/196 [==============================] - 3s 14ms/step - loss: 0.5078 - accuracy: 0.8223\n",
            "Epoch 63/100\n",
            "196/196 [==============================] - 3s 14ms/step - loss: 0.4978 - accuracy: 0.8249\n",
            "Epoch 64/100\n",
            "196/196 [==============================] - 3s 15ms/step - loss: 0.4903 - accuracy: 0.8293\n",
            "Epoch 65/100\n",
            "196/196 [==============================] - 3s 15ms/step - loss: 0.4981 - accuracy: 0.8270\n",
            "Epoch 66/100\n",
            "196/196 [==============================] - 3s 15ms/step - loss: 0.4835 - accuracy: 0.8319\n",
            "Epoch 67/100\n",
            "196/196 [==============================] - 3s 15ms/step - loss: 0.4914 - accuracy: 0.8284\n",
            "Epoch 68/100\n",
            "196/196 [==============================] - 3s 15ms/step - loss: 0.4950 - accuracy: 0.8294\n",
            "Epoch 69/100\n",
            "196/196 [==============================] - 4s 21ms/step - loss: 0.4796 - accuracy: 0.8343\n",
            "Epoch 70/100\n",
            "196/196 [==============================] - 3s 14ms/step - loss: 0.4782 - accuracy: 0.8328\n",
            "Epoch 71/100\n",
            "196/196 [==============================] - 3s 14ms/step - loss: 0.4793 - accuracy: 0.8319\n",
            "Epoch 72/100\n",
            "196/196 [==============================] - 3s 14ms/step - loss: 0.4770 - accuracy: 0.8349\n",
            "Epoch 73/100\n",
            "196/196 [==============================] - 4s 20ms/step - loss: 0.4709 - accuracy: 0.8353\n",
            "Epoch 74/100\n",
            "196/196 [==============================] - 3s 14ms/step - loss: 0.4701 - accuracy: 0.8359\n",
            "Epoch 75/100\n",
            "196/196 [==============================] - 3s 17ms/step - loss: 0.4831 - accuracy: 0.8315\n",
            "Epoch 76/100\n",
            "196/196 [==============================] - 3s 16ms/step - loss: 0.4591 - accuracy: 0.8396\n",
            "Epoch 77/100\n",
            "196/196 [==============================] - 4s 18ms/step - loss: 0.4682 - accuracy: 0.8368\n",
            "Epoch 78/100\n",
            "196/196 [==============================] - 3s 14ms/step - loss: 0.4635 - accuracy: 0.8379\n",
            "Epoch 79/100\n",
            "196/196 [==============================] - 3s 17ms/step - loss: 0.4616 - accuracy: 0.8388\n",
            "Epoch 80/100\n",
            "196/196 [==============================] - 3s 15ms/step - loss: 0.4556 - accuracy: 0.8410\n",
            "Epoch 81/100\n",
            "196/196 [==============================] - 3s 15ms/step - loss: 0.4556 - accuracy: 0.8424\n",
            "Epoch 82/100\n",
            "196/196 [==============================] - 3s 18ms/step - loss: 0.4613 - accuracy: 0.8396\n",
            "Epoch 83/100\n",
            "196/196 [==============================] - 3s 15ms/step - loss: 0.4603 - accuracy: 0.8408\n",
            "Epoch 84/100\n",
            "196/196 [==============================] - 3s 15ms/step - loss: 0.4587 - accuracy: 0.8417\n",
            "Epoch 85/100\n",
            "196/196 [==============================] - 3s 15ms/step - loss: 0.4572 - accuracy: 0.8424\n",
            "Epoch 86/100\n",
            "196/196 [==============================] - 3s 15ms/step - loss: 0.4560 - accuracy: 0.8421\n",
            "Epoch 87/100\n",
            "196/196 [==============================] - 3s 15ms/step - loss: 0.4582 - accuracy: 0.8431\n",
            "Epoch 88/100\n",
            "196/196 [==============================] - 3s 15ms/step - loss: 0.4469 - accuracy: 0.8460\n",
            "Epoch 89/100\n",
            "196/196 [==============================] - 3s 15ms/step - loss: 0.4433 - accuracy: 0.8479\n",
            "Epoch 90/100\n",
            "196/196 [==============================] - 3s 15ms/step - loss: 0.4515 - accuracy: 0.8437\n",
            "Epoch 91/100\n",
            "196/196 [==============================] - 3s 14ms/step - loss: 0.4519 - accuracy: 0.8438\n",
            "Epoch 92/100\n",
            "196/196 [==============================] - 3s 14ms/step - loss: 0.4509 - accuracy: 0.8432\n",
            "Epoch 93/100\n",
            "196/196 [==============================] - 3s 15ms/step - loss: 0.4443 - accuracy: 0.8458\n",
            "Epoch 94/100\n",
            "196/196 [==============================] - 3s 14ms/step - loss: 0.4366 - accuracy: 0.8500\n",
            "Epoch 95/100\n",
            "196/196 [==============================] - 3s 14ms/step - loss: 0.4409 - accuracy: 0.8486\n",
            "Epoch 96/100\n",
            "196/196 [==============================] - 3s 15ms/step - loss: 0.4384 - accuracy: 0.8490\n",
            "Epoch 97/100\n",
            "196/196 [==============================] - 3s 16ms/step - loss: 0.4411 - accuracy: 0.8493\n",
            "Epoch 98/100\n",
            "196/196 [==============================] - 3s 15ms/step - loss: 0.4347 - accuracy: 0.8507\n",
            "Epoch 99/100\n",
            "196/196 [==============================] - 3s 15ms/step - loss: 0.4337 - accuracy: 0.8508\n",
            "Epoch 100/100\n",
            "196/196 [==============================] - 3s 15ms/step - loss: 0.4325 - accuracy: 0.8504\n"
          ]
        }
      ]
    },
    {
      "cell_type": "markdown",
      "source": [
        "## Fashion MNIST"
      ],
      "metadata": {
        "id": "9QfpbJY8fcqe"
      }
    },
    {
      "cell_type": "code",
      "source": [
        "import numpy as np \n",
        "from matplotlib import pyplot\n",
        "from keras.datasets import fashion_mnist\n",
        "data = fashion_mnist.load_data()\n",
        "(X_train, y_train),(X_test,y_test) = data"
      ],
      "metadata": {
        "colab": {
          "base_uri": "https://localhost:8080/"
        },
        "id": "ESAw9PtFd2Sp",
        "outputId": "275cbc26-2cbe-4dcb-ab26-82651410f101"
      },
      "execution_count": 8,
      "outputs": [
        {
          "output_type": "stream",
          "name": "stdout",
          "text": [
            "Downloading data from https://storage.googleapis.com/tensorflow/tf-keras-datasets/train-labels-idx1-ubyte.gz\n",
            "29515/29515 [==============================] - 0s 1us/step\n",
            "Downloading data from https://storage.googleapis.com/tensorflow/tf-keras-datasets/train-images-idx3-ubyte.gz\n",
            "26421880/26421880 [==============================] - 3s 0us/step\n",
            "Downloading data from https://storage.googleapis.com/tensorflow/tf-keras-datasets/t10k-labels-idx1-ubyte.gz\n",
            "5148/5148 [==============================] - 0s 0us/step\n",
            "Downloading data from https://storage.googleapis.com/tensorflow/tf-keras-datasets/t10k-images-idx3-ubyte.gz\n",
            "4422102/4422102 [==============================] - 1s 0us/step\n"
          ]
        }
      ]
    },
    {
      "cell_type": "code",
      "source": [
        "print(\"x train: \", X_train.shape)\n",
        "print(\"x  test: \", X_test.shape)\n",
        "print(\"y train: \", y_train.shape)\n",
        "print(\"y test: \", y_test.shape)"
      ],
      "metadata": {
        "colab": {
          "base_uri": "https://localhost:8080/"
        },
        "id": "W4ZEJkBufmnx",
        "outputId": "8ca663c1-b8cb-4afd-9576-340e12b898ea"
      },
      "execution_count": 9,
      "outputs": [
        {
          "output_type": "stream",
          "name": "stdout",
          "text": [
            "x train:  (60000, 28, 28)\n",
            "x  test:  (10000, 28, 28)\n",
            "y train:  (60000,)\n",
            "y test:  (10000,)\n"
          ]
        }
      ]
    },
    {
      "cell_type": "code",
      "source": [
        "# # reshape\n",
        "# X = X_train\n",
        "# y = y_train\n",
        "\n",
        "# X_train = X_train.reshape(60000,28*28*1)\n",
        "# X_train = X_train.astype('float32')/255\n",
        "# X_test = X_test.reshape(10000,28*28*1)\n",
        "# X_test = X_test.astype('float32')/255\n",
        "\n",
        "# X_train.shape"
      ],
      "metadata": {
        "id": "sf1qskAUo4Ie"
      },
      "execution_count": 10,
      "outputs": []
    },
    {
      "cell_type": "code",
      "source": [
        "# one hot encoding - (chay 1 lan duy nhat)\n",
        "from keras.utils import to_categorical\n",
        "# y_test = to_categorical(y_test,10)\n",
        "\n",
        "y_train = to_categorical(y_train,10)  #1 to 10 bits\n",
        "y_test = to_categorical(y_test,10)\n",
        "y_train.shape\n",
        "y_test.shape"
      ],
      "metadata": {
        "colab": {
          "base_uri": "https://localhost:8080/"
        },
        "id": "BRJRCCQno7R5",
        "outputId": "6e7abca9-8cd8-4990-896c-0eb6abf7d2c0"
      },
      "execution_count": 11,
      "outputs": [
        {
          "output_type": "execute_result",
          "data": {
            "text/plain": [
              "(10000, 10)"
            ]
          },
          "metadata": {},
          "execution_count": 11
        }
      ]
    },
    {
      "cell_type": "markdown",
      "source": [
        "### Convolution NN"
      ],
      "metadata": {
        "id": "3Z6Lfinxo9QS"
      }
    },
    {
      "cell_type": "code",
      "source": [
        "from keras.models import Sequential \n",
        "from keras.layers import Dense, Dropout, Flatten, Conv2D, MaxPooling2D, Normalization, LeakyReLU\n",
        "from keras.optimizers import Adam"
      ],
      "metadata": {
        "id": "VoEDKYKIo9kl"
      },
      "execution_count": 12,
      "outputs": []
    },
    {
      "cell_type": "code",
      "source": [
        "model = Sequential()\n",
        "#1\n",
        "\n",
        "model.add(Conv2D(filters=32,kernel_size=(3,3),activation='linear',\n",
        "                 input_shape=(28,28,1), padding='same'))\n",
        "model.add(LeakyReLU(alpha=0.1))\n",
        "model.add(MaxPooling2D(pool_size=(2,2),padding='same'))\n",
        "#2\n",
        "\n",
        "model.add(Conv2D(filters=64,kernel_size=(3,3),activation='linear',padding='same'))\n",
        "model.add(LeakyReLU(alpha=0.1))\n",
        "model.add(MaxPooling2D(pool_size=(2,2),padding='same'))\n",
        "#3\n",
        "\n",
        "model.add(Conv2D(filters=128,kernel_size=(3,3),activation='linear',padding='same'))\n",
        "model.add(LeakyReLU(alpha=0.1))\n",
        "model.add(MaxPooling2D(pool_size=(2,2),padding='same'))"
      ],
      "metadata": {
        "id": "CGqOSfXypArS"
      },
      "execution_count": 13,
      "outputs": []
    }
  ]
}