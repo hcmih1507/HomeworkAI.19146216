{
  "nbformat": 4,
  "nbformat_minor": 0,
  "metadata": {
    "colab": {
      "provenance": [],
      "mount_file_id": "1On8n_DgiSIdzsi__EXnqcITOMrGAZFiR",
      "authorship_tag": "ABX9TyNF7RdFYB5b9sOOS2Dp6XFu",
      "include_colab_link": true
    },
    "kernelspec": {
      "name": "python3",
      "display_name": "Python 3"
    },
    "language_info": {
      "name": "python"
    }
  },
  "cells": [
    {
      "cell_type": "markdown",
      "metadata": {
        "id": "view-in-github",
        "colab_type": "text"
      },
      "source": [
        "<a href=\"https://colab.research.google.com/github/hcmih1507/HomeworkAI.19146216/blob/main/w14speechtotext.ipynb\" target=\"_parent\"><img src=\"https://colab.research.google.com/assets/colab-badge.svg\" alt=\"Open In Colab\"/></a>"
      ]
    },
    {
      "cell_type": "code",
      "execution_count": 4,
      "metadata": {
        "id": "rpjbgC8Kd-J2",
        "colab": {
          "base_uri": "https://localhost:8080/"
        },
        "outputId": "a4a61da7-b95b-4585-9c38-6dd673cdd5a5"
      },
      "outputs": [
        {
          "output_type": "stream",
          "name": "stdout",
          "text": [
            "Looking in indexes: https://pypi.org/simple, https://us-python.pkg.dev/colab-wheels/public/simple/\n",
            "Collecting SpeechRecognition\n",
            "  Downloading SpeechRecognition-3.10.0-py2.py3-none-any.whl (32.8 MB)\n",
            "\u001b[2K     \u001b[90m━━━━━━━━━━━━━━━━━━━━━━━━━━━━━━━━━━━━━━━━\u001b[0m \u001b[32m32.8/32.8 MB\u001b[0m \u001b[31m19.8 MB/s\u001b[0m eta \u001b[36m0:00:00\u001b[0m\n",
            "\u001b[?25hCollecting pydub\n",
            "  Downloading pydub-0.25.1-py2.py3-none-any.whl (32 kB)\n",
            "Requirement already satisfied: requests>=2.26.0 in /usr/local/lib/python3.9/dist-packages (from SpeechRecognition) (2.27.1)\n",
            "Requirement already satisfied: charset-normalizer~=2.0.0 in /usr/local/lib/python3.9/dist-packages (from requests>=2.26.0->SpeechRecognition) (2.0.12)\n",
            "Requirement already satisfied: certifi>=2017.4.17 in /usr/local/lib/python3.9/dist-packages (from requests>=2.26.0->SpeechRecognition) (2022.12.7)\n",
            "Requirement already satisfied: idna<4,>=2.5 in /usr/local/lib/python3.9/dist-packages (from requests>=2.26.0->SpeechRecognition) (3.4)\n",
            "Requirement already satisfied: urllib3<1.27,>=1.21.1 in /usr/local/lib/python3.9/dist-packages (from requests>=2.26.0->SpeechRecognition) (1.26.15)\n",
            "Installing collected packages: pydub, SpeechRecognition\n",
            "Successfully installed SpeechRecognition-3.10.0 pydub-0.25.1\n"
          ]
        }
      ],
      "source": [
        "pip install SpeechRecognition pydub"
      ]
    },
    {
      "cell_type": "code",
      "source": [
        "file = '/content/drive/MyDrive/baocaoai/14/male.wav'\n",
        "import speech_recognition as sr \n",
        "r = sr.Recognizer()\n",
        "with sr.AudioFile(file) as source:\n",
        "  data = r.record(source)\n",
        "  text = r.recognize_google(data)\n",
        "print(text)"
      ],
      "metadata": {
        "colab": {
          "base_uri": "https://localhost:8080/"
        },
        "id": "0rrZ-Luqhlj_",
        "outputId": "9406ac1f-1461-46c0-90b8-9d7f9e2e1a6b"
      },
      "execution_count": 5,
      "outputs": [
        {
          "output_type": "stream",
          "name": "stdout",
          "text": [
            "what if somebody decides to break it be careful that you keep adequate coverage but look for places to save money baby it's taking longer to get things squared away than the bankers expected during the wife for once company may win her tax hated retirement income as helpful as our cost on the two naked bone when the title of this type of song is in question there's no dying or waxing or gassing needed maybe personalized leather hard place work on a flat surface and smooth out the simplest kind of separate system uses a single self-contained unit the old shop at it still holds a good mechanic is usually a bad boss both figures would go higher in later years doll houses at set\n"
          ]
        }
      ]
    },
    {
      "cell_type": "code",
      "source": [
        "file = '/content/drive/MyDrive/baocaoai/14/male.wav'\n",
        "import speech_recognition as sr \n",
        "r = sr.Recognizer()\n",
        "with sr.AudioFile(file) as source:\n",
        "  data = r.record(source)\n",
        "  text = r.recognize_google(data,language='ko')\n",
        "print(text)"
      ],
      "metadata": {
        "colab": {
          "base_uri": "https://localhost:8080/"
        },
        "id": "PlWiIPN-lzFy",
        "outputId": "bf6515fb-ec49-46c7-c5c8-c6acabeefa1b"
      },
      "execution_count": 6,
      "outputs": [
        {
          "output_type": "stream",
          "name": "stdout",
          "text": [
            "playback stopped because too many videos belonging to the same way daly City California University tama campus applications using the reason to make the sentence with python graph showing another one bites the dust and mouth to music songs of content in this app has caused the relationship of users can Share House\n"
          ]
        }
      ]
    },
    {
      "cell_type": "code",
      "source": [
        "file = '/content/drive/MyDrive/baocaoai/14/cn.wav'\n",
        "import speech_recognition as sr \n",
        "r = sr.Recognizer() ; \n",
        "test = sr.AudioFile(file)\n",
        "with test as source:\n",
        "  data = r.record(source,offset=52,duration=20)\n",
        "  text = r.recognize_google(data,language='ja')\n",
        "print(text)"
      ],
      "metadata": {
        "colab": {
          "base_uri": "https://localhost:8080/"
        },
        "id": "qcZDa7U4l71H",
        "outputId": "36ae9413-a2bf-4ca4-f87e-3e3fc936dcb8"
      },
      "execution_count": 9,
      "outputs": [
        {
          "output_type": "stream",
          "name": "stdout",
          "text": [
            "に入って今\n"
          ]
        }
      ]
    },
    {
      "cell_type": "code",
      "source": [
        "file = '/content/drive/MyDrive/baocaoai/14/cn.wav'\n",
        "import speech_recognition as sr \n",
        "r = sr.Recognizer() ; \n",
        "test = sr.AudioFile(file)\n",
        "with test as source:\n",
        "  data = r.record(source,offset=52,duration=20)\n",
        "  text = r.recognize_google(data,language='ko')\n",
        "print(text)"
      ],
      "metadata": {
        "colab": {
          "base_uri": "https://localhost:8080/"
        },
        "id": "UYgU_pLUosBe",
        "outputId": "04256dac-9f4a-4d62-d58b-ae340c69e0e1"
      },
      "execution_count": 10,
      "outputs": [
        {
          "output_type": "stream",
          "name": "stdout",
          "text": [
            "아주 유빈이 하이\n"
          ]
        }
      ]
    },
    {
      "cell_type": "code",
      "source": [
        "file = '/content/drive/MyDrive/baocaoai/14/cn.wav'\n",
        "import speech_recognition as sr \n",
        "r = sr.Recognizer() ; \n",
        "test = sr.AudioFile(file)\n",
        "with test as source:\n",
        "  data = r.record(source,offset=52,duration=20)\n",
        "  text = r.recognize_google(data,language='zh')\n",
        "print(text)"
      ],
      "metadata": {
        "colab": {
          "base_uri": "https://localhost:8080/"
        },
        "id": "2C0SC3mio0XG",
        "outputId": "9558f870-b512-4eaf-c166-3796f23b9b61"
      },
      "execution_count": 25,
      "outputs": [
        {
          "output_type": "stream",
          "name": "stdout",
          "text": [
            "Hello\n"
          ]
        }
      ]
    },
    {
      "cell_type": "code",
      "source": [
        "file = '/content/drive/MyDrive/baocaoai/14/korea.wav'\n",
        "import speech_recognition as sr \n",
        "r = sr.Recognizer() ; \n",
        "test = sr.AudioFile(file)\n",
        "with test as source:\n",
        "  data = r.record(source,offset=50,duration=20)\n",
        "  text = r.recognize_google(data,language='ko')\n",
        "print(text)"
      ],
      "metadata": {
        "colab": {
          "base_uri": "https://localhost:8080/"
        },
        "id": "8i0ZXEwVo5U9",
        "outputId": "091a8191-fccf-4af9-b419-5d4202ff715e"
      },
      "execution_count": 23,
      "outputs": [
        {
          "output_type": "stream",
          "name": "stdout",
          "text": [
            "사랑해 나 있잖아 있잖아 내역에 드리면\n"
          ]
        }
      ]
    },
    {
      "cell_type": "code",
      "source": [],
      "metadata": {
        "id": "CArB4ZS7rhAG"
      },
      "execution_count": null,
      "outputs": []
    },
    {
      "cell_type": "code",
      "source": [],
      "metadata": {
        "id": "MCOhJUEsvBPL"
      },
      "execution_count": null,
      "outputs": []
    }
  ]
}